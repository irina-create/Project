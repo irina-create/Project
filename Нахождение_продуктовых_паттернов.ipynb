{
 "cells": [
  {
   "cell_type": "markdown",
   "metadata": {},
   "source": [
    "**Задача**: проанализировать данные продуктовых магазинов компании. Отследить покупки людей и выяснить, *какие пары товаров пользователи чаще всего покупают вместе*. Нахождение подобных паттернов позволит оптимизировать размещение продуктов в \n",
    "магазине для удобства пользователей и увеличения выручки.\n",
    "<hr>"
   ]
  },
  {
   "cell_type": "code",
   "execution_count": 1,
   "metadata": {},
   "outputs": [],
   "source": [
    "import pandas as pd\n",
    "from itertools import combinations\n",
    "import numpy as np"
   ]
  },
  {
   "cell_type": "markdown",
   "metadata": {},
   "source": [
    "**Загружаем данные, группируем данные по id покупки:**"
   ]
  },
  {
   "cell_type": "code",
   "execution_count": 2,
   "metadata": {},
   "outputs": [],
   "source": [
    "products = pd.read_csv(\"https://stepik.org/media/attachments/lesson/409319/test1_completed.csv\")"
   ]
  },
  {
   "cell_type": "code",
   "execution_count": 3,
   "metadata": {},
   "outputs": [
    {
     "data": {
      "text/html": [
       "<div>\n",
       "<style scoped>\n",
       "    .dataframe tbody tr th:only-of-type {\n",
       "        vertical-align: middle;\n",
       "    }\n",
       "\n",
       "    .dataframe tbody tr th {\n",
       "        vertical-align: top;\n",
       "    }\n",
       "\n",
       "    .dataframe thead th {\n",
       "        text-align: right;\n",
       "    }\n",
       "</style>\n",
       "<table border=\"1\" class=\"dataframe\">\n",
       "  <thead>\n",
       "    <tr style=\"text-align: right;\">\n",
       "      <th></th>\n",
       "      <th>id</th>\n",
       "      <th>Товар</th>\n",
       "      <th>Количество</th>\n",
       "    </tr>\n",
       "  </thead>\n",
       "  <tbody>\n",
       "    <tr>\n",
       "      <th>0</th>\n",
       "      <td>17119</td>\n",
       "      <td>Лимон</td>\n",
       "      <td>1.1</td>\n",
       "    </tr>\n",
       "    <tr>\n",
       "      <th>1</th>\n",
       "      <td>17119</td>\n",
       "      <td>Лимон оранжевый</td>\n",
       "      <td>0.7</td>\n",
       "    </tr>\n",
       "    <tr>\n",
       "      <th>2</th>\n",
       "      <td>17119</td>\n",
       "      <td>Лук-порей</td>\n",
       "      <td>10.0</td>\n",
       "    </tr>\n",
       "    <tr>\n",
       "      <th>3</th>\n",
       "      <td>17119</td>\n",
       "      <td>Лук репчатый</td>\n",
       "      <td>2.5</td>\n",
       "    </tr>\n",
       "    <tr>\n",
       "      <th>4</th>\n",
       "      <td>17119</td>\n",
       "      <td>Малина свежая</td>\n",
       "      <td>1.0</td>\n",
       "    </tr>\n",
       "  </tbody>\n",
       "</table>\n",
       "</div>"
      ],
      "text/plain": [
       "      id            Товар  Количество\n",
       "0  17119            Лимон         1.1\n",
       "1  17119  Лимон оранжевый         0.7\n",
       "2  17119        Лук-порей        10.0\n",
       "3  17119     Лук репчатый         2.5\n",
       "4  17119    Малина свежая         1.0"
      ]
     },
     "execution_count": 3,
     "metadata": {},
     "output_type": "execute_result"
    }
   ],
   "source": [
    "products.head()"
   ]
  },
  {
   "cell_type": "code",
   "execution_count": 4,
   "metadata": {},
   "outputs": [],
   "source": [
    "products_list = products.groupby(\"id\", as_index=False).agg({\"Товар\": \"unique\"})"
   ]
  },
  {
   "cell_type": "code",
   "execution_count": 5,
   "metadata": {},
   "outputs": [
    {
     "data": {
      "text/html": [
       "<div>\n",
       "<style scoped>\n",
       "    .dataframe tbody tr th:only-of-type {\n",
       "        vertical-align: middle;\n",
       "    }\n",
       "\n",
       "    .dataframe tbody tr th {\n",
       "        vertical-align: top;\n",
       "    }\n",
       "\n",
       "    .dataframe thead th {\n",
       "        text-align: right;\n",
       "    }\n",
       "</style>\n",
       "<table border=\"1\" class=\"dataframe\">\n",
       "  <thead>\n",
       "    <tr style=\"text-align: right;\">\n",
       "      <th></th>\n",
       "      <th>id</th>\n",
       "      <th>Товар</th>\n",
       "    </tr>\n",
       "  </thead>\n",
       "  <tbody>\n",
       "    <tr>\n",
       "      <th>0</th>\n",
       "      <td>17119</td>\n",
       "      <td>[Лимон, Лимон оранжевый, Лук-порей, Лук репчат...</td>\n",
       "    </tr>\n",
       "    <tr>\n",
       "      <th>1</th>\n",
       "      <td>17530</td>\n",
       "      <td>[Лимон оранжевый, Изюм Султана, Капуста цветна...</td>\n",
       "    </tr>\n",
       "    <tr>\n",
       "      <th>2</th>\n",
       "      <td>17618</td>\n",
       "      <td>[Абрикосы молдавские, Кукуруза мини, Грибы лис...</td>\n",
       "    </tr>\n",
       "    <tr>\n",
       "      <th>3</th>\n",
       "      <td>17724</td>\n",
       "      <td>[Абрикосы молдавские, Арбуз, Салат Айсберг, Га...</td>\n",
       "    </tr>\n",
       "    <tr>\n",
       "      <th>4</th>\n",
       "      <td>17814</td>\n",
       "      <td>[Арбуз, Кабачки, Кинза, Малина свежая, Морковь...</td>\n",
       "    </tr>\n",
       "    <tr>\n",
       "      <th>...</th>\n",
       "      <td>...</td>\n",
       "      <td>...</td>\n",
       "    </tr>\n",
       "    <tr>\n",
       "      <th>3268</th>\n",
       "      <td>119062</td>\n",
       "      <td>[Баклажаны грунтовые, Персики, Персики армянск...</td>\n",
       "    </tr>\n",
       "    <tr>\n",
       "      <th>3269</th>\n",
       "      <td>119110</td>\n",
       "      <td>[Авокадо ХАСС, Апельсины столовые, Базилик зел...</td>\n",
       "    </tr>\n",
       "    <tr>\n",
       "      <th>3270</th>\n",
       "      <td>119206</td>\n",
       "      <td>[Огурцы длинноплодные, Грибы шампиньоны, Подпи...</td>\n",
       "    </tr>\n",
       "    <tr>\n",
       "      <th>3271</th>\n",
       "      <td>119393</td>\n",
       "      <td>[Петрушка, Грибы Еринги, Инжир свежий, Редис, ...</td>\n",
       "    </tr>\n",
       "    <tr>\n",
       "      <th>3272</th>\n",
       "      <td>119396</td>\n",
       "      <td>[Фасоль стручковая, Лук-резанец (шнитт-лук), Л...</td>\n",
       "    </tr>\n",
       "  </tbody>\n",
       "</table>\n",
       "<p>3273 rows × 2 columns</p>\n",
       "</div>"
      ],
      "text/plain": [
       "          id                                              Товар\n",
       "0      17119  [Лимон, Лимон оранжевый, Лук-порей, Лук репчат...\n",
       "1      17530  [Лимон оранжевый, Изюм Султана, Капуста цветна...\n",
       "2      17618  [Абрикосы молдавские, Кукуруза мини, Грибы лис...\n",
       "3      17724  [Абрикосы молдавские, Арбуз, Салат Айсберг, Га...\n",
       "4      17814  [Арбуз, Кабачки, Кинза, Малина свежая, Морковь...\n",
       "...      ...                                                ...\n",
       "3268  119062  [Баклажаны грунтовые, Персики, Персики армянск...\n",
       "3269  119110  [Авокадо ХАСС, Апельсины столовые, Базилик зел...\n",
       "3270  119206  [Огурцы длинноплодные, Грибы шампиньоны, Подпи...\n",
       "3271  119393  [Петрушка, Грибы Еринги, Инжир свежий, Редис, ...\n",
       "3272  119396  [Фасоль стручковая, Лук-резанец (шнитт-лук), Л...\n",
       "\n",
       "[3273 rows x 2 columns]"
      ]
     },
     "execution_count": 5,
     "metadata": {},
     "output_type": "execute_result"
    }
   ],
   "source": [
    "products_list"
   ]
  },
  {
   "cell_type": "markdown",
   "metadata": {},
   "source": [
    "**Находим всевозможные комбинации товаров с помощью функции combinations() модуля itertools:**"
   ]
  },
  {
   "cell_type": "code",
   "execution_count": 6,
   "metadata": {},
   "outputs": [],
   "source": [
    "products_combinations = products_list[\"Товар\"].apply(lambda x: list(combinations(x, 2)))"
   ]
  },
  {
   "cell_type": "code",
   "execution_count": 7,
   "metadata": {},
   "outputs": [
    {
     "data": {
      "text/plain": [
       "0       [(Лимон, Лимон оранжевый), (Лимон, Лук-порей),...\n",
       "1       [(Лимон оранжевый, Изюм Султана), (Лимон оранж...\n",
       "2       [(Абрикосы молдавские, Кукуруза мини), (Абрико...\n",
       "3       [(Абрикосы молдавские, Арбуз), (Абрикосы молда...\n",
       "4       [(Арбуз, Кабачки), (Арбуз, Кинза), (Арбуз, Мал...\n",
       "                              ...                        \n",
       "3268    [(Баклажаны грунтовые, Персики), (Баклажаны гр...\n",
       "3269    [(Авокадо ХАСС, Апельсины столовые), (Авокадо ...\n",
       "3270    [(Огурцы длинноплодные, Грибы шампиньоны), (Ог...\n",
       "3271    [(Петрушка, Грибы Еринги), (Петрушка, Инжир св...\n",
       "3272    [(Фасоль стручковая, Лук-резанец (шнитт-лук)),...\n",
       "Name: Товар, Length: 3273, dtype: object"
      ]
     },
     "execution_count": 7,
     "metadata": {},
     "output_type": "execute_result"
    }
   ],
   "source": [
    "products_combinations"
   ]
  },
  {
   "cell_type": "markdown",
   "metadata": {},
   "source": [
    "**Поместим комбинации в датафрейм:**"
   ]
  },
  {
   "cell_type": "code",
   "execution_count": 8,
   "metadata": {},
   "outputs": [],
   "source": [
    "products_combinations = pd.DataFrame(products_combinations.sum())"
   ]
  },
  {
   "cell_type": "code",
   "execution_count": 9,
   "metadata": {},
   "outputs": [
    {
     "data": {
      "text/html": [
       "<div>\n",
       "<style scoped>\n",
       "    .dataframe tbody tr th:only-of-type {\n",
       "        vertical-align: middle;\n",
       "    }\n",
       "\n",
       "    .dataframe tbody tr th {\n",
       "        vertical-align: top;\n",
       "    }\n",
       "\n",
       "    .dataframe thead th {\n",
       "        text-align: right;\n",
       "    }\n",
       "</style>\n",
       "<table border=\"1\" class=\"dataframe\">\n",
       "  <thead>\n",
       "    <tr style=\"text-align: right;\">\n",
       "      <th></th>\n",
       "      <th>0</th>\n",
       "      <th>1</th>\n",
       "    </tr>\n",
       "  </thead>\n",
       "  <tbody>\n",
       "    <tr>\n",
       "      <th>0</th>\n",
       "      <td>Лимон</td>\n",
       "      <td>Лимон оранжевый</td>\n",
       "    </tr>\n",
       "    <tr>\n",
       "      <th>1</th>\n",
       "      <td>Лимон</td>\n",
       "      <td>Лук-порей</td>\n",
       "    </tr>\n",
       "    <tr>\n",
       "      <th>2</th>\n",
       "      <td>Лимон</td>\n",
       "      <td>Лук репчатый</td>\n",
       "    </tr>\n",
       "    <tr>\n",
       "      <th>3</th>\n",
       "      <td>Лимон</td>\n",
       "      <td>Малина свежая</td>\n",
       "    </tr>\n",
       "    <tr>\n",
       "      <th>4</th>\n",
       "      <td>Лимон</td>\n",
       "      <td>Морковь немытая</td>\n",
       "    </tr>\n",
       "    <tr>\n",
       "      <th>5</th>\n",
       "      <td>Лимон</td>\n",
       "      <td>Черешня сушеная</td>\n",
       "    </tr>\n",
       "    <tr>\n",
       "      <th>6</th>\n",
       "      <td>Лимон оранжевый</td>\n",
       "      <td>Лук-порей</td>\n",
       "    </tr>\n",
       "    <tr>\n",
       "      <th>7</th>\n",
       "      <td>Лимон оранжевый</td>\n",
       "      <td>Лук репчатый</td>\n",
       "    </tr>\n",
       "    <tr>\n",
       "      <th>8</th>\n",
       "      <td>Лимон оранжевый</td>\n",
       "      <td>Малина свежая</td>\n",
       "    </tr>\n",
       "    <tr>\n",
       "      <th>9</th>\n",
       "      <td>Лимон оранжевый</td>\n",
       "      <td>Морковь немытая</td>\n",
       "    </tr>\n",
       "    <tr>\n",
       "      <th>10</th>\n",
       "      <td>Лимон оранжевый</td>\n",
       "      <td>Черешня сушеная</td>\n",
       "    </tr>\n",
       "    <tr>\n",
       "      <th>11</th>\n",
       "      <td>Лук-порей</td>\n",
       "      <td>Лук репчатый</td>\n",
       "    </tr>\n",
       "    <tr>\n",
       "      <th>12</th>\n",
       "      <td>Лук-порей</td>\n",
       "      <td>Малина свежая</td>\n",
       "    </tr>\n",
       "    <tr>\n",
       "      <th>13</th>\n",
       "      <td>Лук-порей</td>\n",
       "      <td>Морковь немытая</td>\n",
       "    </tr>\n",
       "    <tr>\n",
       "      <th>14</th>\n",
       "      <td>Лук-порей</td>\n",
       "      <td>Черешня сушеная</td>\n",
       "    </tr>\n",
       "    <tr>\n",
       "      <th>15</th>\n",
       "      <td>Лук репчатый</td>\n",
       "      <td>Малина свежая</td>\n",
       "    </tr>\n",
       "    <tr>\n",
       "      <th>16</th>\n",
       "      <td>Лук репчатый</td>\n",
       "      <td>Морковь немытая</td>\n",
       "    </tr>\n",
       "    <tr>\n",
       "      <th>17</th>\n",
       "      <td>Лук репчатый</td>\n",
       "      <td>Черешня сушеная</td>\n",
       "    </tr>\n",
       "    <tr>\n",
       "      <th>18</th>\n",
       "      <td>Малина свежая</td>\n",
       "      <td>Морковь немытая</td>\n",
       "    </tr>\n",
       "    <tr>\n",
       "      <th>19</th>\n",
       "      <td>Малина свежая</td>\n",
       "      <td>Черешня сушеная</td>\n",
       "    </tr>\n",
       "    <tr>\n",
       "      <th>20</th>\n",
       "      <td>Морковь немытая</td>\n",
       "      <td>Черешня сушеная</td>\n",
       "    </tr>\n",
       "    <tr>\n",
       "      <th>21</th>\n",
       "      <td>Лимон оранжевый</td>\n",
       "      <td>Изюм Султана</td>\n",
       "    </tr>\n",
       "    <tr>\n",
       "      <th>22</th>\n",
       "      <td>Лимон оранжевый</td>\n",
       "      <td>Капуста цветная</td>\n",
       "    </tr>\n",
       "    <tr>\n",
       "      <th>23</th>\n",
       "      <td>Лимон оранжевый</td>\n",
       "      <td>Бразильский орех</td>\n",
       "    </tr>\n",
       "    <tr>\n",
       "      <th>24</th>\n",
       "      <td>Лимон оранжевый</td>\n",
       "      <td>Дыня Гуляби</td>\n",
       "    </tr>\n",
       "    <tr>\n",
       "      <th>25</th>\n",
       "      <td>Лимон оранжевый</td>\n",
       "      <td>Шпинат мини</td>\n",
       "    </tr>\n",
       "    <tr>\n",
       "      <th>26</th>\n",
       "      <td>Лимон оранжевый</td>\n",
       "      <td>Изюм Голд</td>\n",
       "    </tr>\n",
       "    <tr>\n",
       "      <th>27</th>\n",
       "      <td>Лимон оранжевый</td>\n",
       "      <td>Лимон</td>\n",
       "    </tr>\n",
       "    <tr>\n",
       "      <th>28</th>\n",
       "      <td>Лимон оранжевый</td>\n",
       "      <td>Огурцы Луховицкие</td>\n",
       "    </tr>\n",
       "    <tr>\n",
       "      <th>29</th>\n",
       "      <td>Лимон оранжевый</td>\n",
       "      <td>Чеснок весовой</td>\n",
       "    </tr>\n",
       "  </tbody>\n",
       "</table>\n",
       "</div>"
      ],
      "text/plain": [
       "                  0                  1\n",
       "0             Лимон    Лимон оранжевый\n",
       "1             Лимон          Лук-порей\n",
       "2             Лимон       Лук репчатый\n",
       "3             Лимон      Малина свежая\n",
       "4             Лимон    Морковь немытая\n",
       "5             Лимон    Черешня сушеная\n",
       "6   Лимон оранжевый          Лук-порей\n",
       "7   Лимон оранжевый       Лук репчатый\n",
       "8   Лимон оранжевый      Малина свежая\n",
       "9   Лимон оранжевый    Морковь немытая\n",
       "10  Лимон оранжевый    Черешня сушеная\n",
       "11        Лук-порей       Лук репчатый\n",
       "12        Лук-порей      Малина свежая\n",
       "13        Лук-порей    Морковь немытая\n",
       "14        Лук-порей    Черешня сушеная\n",
       "15     Лук репчатый      Малина свежая\n",
       "16     Лук репчатый    Морковь немытая\n",
       "17     Лук репчатый    Черешня сушеная\n",
       "18    Малина свежая    Морковь немытая\n",
       "19    Малина свежая    Черешня сушеная\n",
       "20  Морковь немытая    Черешня сушеная\n",
       "21  Лимон оранжевый       Изюм Султана\n",
       "22  Лимон оранжевый    Капуста цветная\n",
       "23  Лимон оранжевый   Бразильский орех\n",
       "24  Лимон оранжевый        Дыня Гуляби\n",
       "25  Лимон оранжевый        Шпинат мини\n",
       "26  Лимон оранжевый          Изюм Голд\n",
       "27  Лимон оранжевый              Лимон\n",
       "28  Лимон оранжевый  Огурцы Луховицкие\n",
       "29  Лимон оранжевый     Чеснок весовой"
      ]
     },
     "execution_count": 9,
     "metadata": {},
     "output_type": "execute_result"
    }
   ],
   "source": [
    "products_combinations.head(30)"
   ]
  },
  {
   "cell_type": "markdown",
   "metadata": {},
   "source": [
    "**Загружаем данные, группируем данные по id покупки:**"
   ]
  },
  {
   "cell_type": "markdown",
   "metadata": {},
   "source": [
    "**Посчитаем встречаемость комбинаций в датафрейме:**"
   ]
  },
  {
   "cell_type": "code",
   "execution_count": 10,
   "metadata": {},
   "outputs": [],
   "source": [
    "products_combinations_count_values = products_combinations.apply(lambda x: tuple(sorted(x)), axis=1).value_counts()"
   ]
  },
  {
   "cell_type": "code",
   "execution_count": 11,
   "metadata": {},
   "outputs": [
    {
     "data": {
      "text/plain": [
       "(Огурцы Луховицкие, Укроп)                431\n",
       "(Петрушка, Укроп)                         408\n",
       "(Арбуз, Огурцы Луховицкие)                345\n",
       "(Кабачки, Огурцы Луховицкие)              326\n",
       "(Кинза, Укроп)                            303\n",
       "                                         ... \n",
       "(Рамбутан, Шиповник)                        1\n",
       "(Салат Фризе, Яблоки сушеные)               1\n",
       "(Лонган, Цукаты (брусочки))                 1\n",
       "(Капуста краснокочанная, Огурцы Кураж)      1\n",
       "(Букет \"Фаворит\", Семена Чиа)               1\n",
       "Length: 19697, dtype: int64"
      ]
     },
     "execution_count": 11,
     "metadata": {},
     "output_type": "execute_result"
    }
   ],
   "source": [
    "products_combinations_count_values"
   ]
  },
  {
   "cell_type": "markdown",
   "metadata": {},
   "source": [
    "**Приведём табличку к необходимому виду, выведем 5 наиболее распространённых паттернов:**"
   ]
  },
  {
   "cell_type": "code",
   "execution_count": 12,
   "metadata": {},
   "outputs": [],
   "source": [
    "products_combinations_count_values = pd.DataFrame(products_combinations_count_values, columns={\"Встречаемость\"})"
   ]
  },
  {
   "cell_type": "code",
   "execution_count": 13,
   "metadata": {},
   "outputs": [],
   "source": [
    "products_combinations_count_values = products_combinations_count_values.reset_index(drop=False).rename(columns={0: \"1_Товар\", 1: \"2_Товар\"})"
   ]
  },
  {
   "cell_type": "code",
   "execution_count": 16,
   "metadata": {},
   "outputs": [
    {
     "data": {
      "text/html": [
       "<div>\n",
       "<style scoped>\n",
       "    .dataframe tbody tr th:only-of-type {\n",
       "        vertical-align: middle;\n",
       "    }\n",
       "\n",
       "    .dataframe tbody tr th {\n",
       "        vertical-align: top;\n",
       "    }\n",
       "\n",
       "    .dataframe thead th {\n",
       "        text-align: right;\n",
       "    }\n",
       "</style>\n",
       "<table border=\"1\" class=\"dataframe\">\n",
       "  <thead>\n",
       "    <tr style=\"text-align: right;\">\n",
       "      <th></th>\n",
       "      <th>index</th>\n",
       "      <th>Встречаемость</th>\n",
       "    </tr>\n",
       "  </thead>\n",
       "  <tbody>\n",
       "    <tr>\n",
       "      <th>0</th>\n",
       "      <td>(Огурцы Луховицкие, Укроп)</td>\n",
       "      <td>431</td>\n",
       "    </tr>\n",
       "    <tr>\n",
       "      <th>1</th>\n",
       "      <td>(Петрушка, Укроп)</td>\n",
       "      <td>408</td>\n",
       "    </tr>\n",
       "    <tr>\n",
       "      <th>2</th>\n",
       "      <td>(Арбуз, Огурцы Луховицкие)</td>\n",
       "      <td>345</td>\n",
       "    </tr>\n",
       "    <tr>\n",
       "      <th>3</th>\n",
       "      <td>(Кабачки, Огурцы Луховицкие)</td>\n",
       "      <td>326</td>\n",
       "    </tr>\n",
       "    <tr>\n",
       "      <th>4</th>\n",
       "      <td>(Кинза, Укроп)</td>\n",
       "      <td>303</td>\n",
       "    </tr>\n",
       "  </tbody>\n",
       "</table>\n",
       "</div>"
      ],
      "text/plain": [
       "                          index  Встречаемость\n",
       "0    (Огурцы Луховицкие, Укроп)            431\n",
       "1             (Петрушка, Укроп)            408\n",
       "2    (Арбуз, Огурцы Луховицкие)            345\n",
       "3  (Кабачки, Огурцы Луховицкие)            326\n",
       "4                (Кинза, Укроп)            303"
      ]
     },
     "execution_count": 16,
     "metadata": {},
     "output_type": "execute_result"
    }
   ],
   "source": [
    "products_combinations_count_values.head(5)"
   ]
  },
  {
   "cell_type": "markdown",
   "metadata": {},
   "source": [
    "<blockquote>Мы получили паттерны товаров, которые чаще всего покупаются вместе. Полезно будет проанализировать не только \n",
    "первые 5 паттернов, но и последующие с целью оптимизации размещения товаров на полках продуктовых магазинов. Данный анализ также\n",
    "будет полезен для оптимизации поставок товаров.</blockquote>"
   ]
  },
  {
   "cell_type": "code",
   "execution_count": null,
   "metadata": {},
   "outputs": [],
   "source": []
  }
 ],
 "metadata": {
  "kernelspec": {
   "display_name": "Python 3",
   "language": "python",
   "name": "python3"
  },
  "language_info": {
   "codemirror_mode": {
    "name": "ipython",
    "version": 3
   },
   "file_extension": ".py",
   "mimetype": "text/x-python",
   "name": "python",
   "nbconvert_exporter": "python",
   "pygments_lexer": "ipython3",
   "version": "3.7.3"
  }
 },
 "nbformat": 4,
 "nbformat_minor": 4
}
